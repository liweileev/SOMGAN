{
 "cells": [
  {
   "cell_type": "code",
   "execution_count": null,
   "metadata": {},
   "outputs": [],
   "source": [
    "import numpy as np\n",
    "from torch.backends import cudnn\n",
    "from utils.data_loader import Data_Loader\n",
    "from utils.utils import make_folder\n",
    "from utils.utils import Configuration\n",
    "from models import SOMGAN_model\n",
    "import time\n",
    "import math"
   ]
  },
  {
   "cell_type": "code",
   "execution_count": null,
   "metadata": {},
   "outputs": [],
   "source": [
    "d_num = 9\n",
    "topo_style = 'grid' # linear, grid, circular\n",
    "if topo_style == 'grid':\n",
    "    a = int((math.sqrt(d_num)))\n",
    "    if a * a != d_num:\n",
    "        print('d_num should be a squared number.')\n",
    "\n",
    "total_step = 100\n",
    "batch_size = 64\n",
    "network = 'CNN_network' # CNN_network, SN_network, Attn_SN_network\n",
    "\n",
    "dataset = 'stl10'  # 'mnist', 'cifar', 'lsun', 'celeb', 'stl10'\n",
    "image_path = '~/Datasets/STL-10/'\n",
    "imsize = 96\n",
    "channel = 3\n",
    "conv_dim = 64"
   ]
  },
  {
   "cell_type": "code",
   "execution_count": null,
   "metadata": {
    "scrolled": false
   },
   "outputs": [],
   "source": [
    "version = 'SOMGAN_' + network +'_'  + dataset + '_' + str(d_num) + 'D_' + topo_style + '_' + str(total_step) + 'iters_' + str(time.strftime(\"%Y-%m-%d %H:%M:%S\", time.localtime()))\n",
    "model_save_path = './output/'+version+'/models'\n",
    "loss_save_path = './output/' + version + '/loss'\n",
    "sample_path = './output/'+version+'/samples'\n",
    "\n",
    "# Create directories if not exist\n",
    "make_folder(path = model_save_path)\n",
    "make_folder(path = loss_save_path)\n",
    "make_folder(path = sample_path)\n",
    "\n",
    "# Data loader\n",
    "data_loader = Data_Loader(dataset = dataset, image_path = image_path, image_size = imsize, batch_size = batch_size, shuf = True)\n",
    "\n",
    "print(\"Data_Loader: 1 epoch = %d iterations\" % len(data_loader.loader()))"
   ]
  },
  {
   "cell_type": "code",
   "execution_count": null,
   "metadata": {
    "scrolled": false
   },
   "outputs": [],
   "source": [
    "# Training configures\n",
    "configs = {\n",
    "    'dataset': dataset,\n",
    "    'imsize': imsize,\n",
    "    'network': network,\n",
    "    'batch_size': batch_size,\n",
    "    'g_conv_dim': conv_dim,\n",
    "    'd_conv_dim': conv_dim,\n",
    "    'channel': channel,\n",
    "    'd_num': d_num,\n",
    "    'topo_style': topo_style,\n",
    "    'z_dim': 64,\n",
    "    'total_step': total_step,\n",
    "    'log_step': 1000,\n",
    "    'sample_step': 5000,\n",
    "    'model_save_step': 5000,\n",
    "    'g_lr': 0.001,\n",
    "    'd_lr': 0.001,\n",
    "    'lr_decay': 0.95,\n",
    "    'beta1': 0.9,\n",
    "    'beta2': 0.999,\n",
    "    'version': version,\n",
    "    'parallel': False,\n",
    "    'printnet': False,\n",
    "    'use_tensorboard': True,\n",
    "    'pretrained_model': None,\n",
    "    'model_save_path': model_save_path,\n",
    "    'sample_path': sample_path,\n",
    "    'loss_save_path': loss_save_path\n",
    "}\n",
    "\n",
    "trainer = SOMGAN_model.Trainer(data_loader.loader(), Configuration(configs))"
   ]
  },
  {
   "cell_type": "code",
   "execution_count": null,
   "metadata": {
    "scrolled": false
   },
   "outputs": [],
   "source": [
    "trainer.train()"
   ]
  }
 ],
 "metadata": {
  "kernelspec": {
   "display_name": "Python 3",
   "language": "python",
   "name": "python3"
  },
  "language_info": {
   "codemirror_mode": {
    "name": "ipython",
    "version": 3
   },
   "file_extension": ".py",
   "mimetype": "text/x-python",
   "name": "python",
   "nbconvert_exporter": "python",
   "pygments_lexer": "ipython3",
   "version": "3.6.6"
  }
 },
 "nbformat": 4,
 "nbformat_minor": 2
}
