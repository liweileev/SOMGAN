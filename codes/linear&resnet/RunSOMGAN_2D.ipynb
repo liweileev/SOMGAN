{
 "cells": [
  {
   "cell_type": "code",
   "execution_count": null,
   "metadata": {},
   "outputs": [],
   "source": [
    "import numpy as np\n",
    "from torch.backends import cudnn\n",
    "from utils.utils import make_folder\n",
    "from utils.utils import Configuration\n",
    "from models import SOMGAN_toy2D_model\n",
    "import time\n",
    "import math"
   ]
  },
  {
   "cell_type": "code",
   "execution_count": null,
   "metadata": {},
   "outputs": [],
   "source": [
    "d_num = 9\n",
    "topo_style = 'circular' # linear, grid, circular\n",
    "if topo_style == 'grid':\n",
    "    a = int((math.sqrt(d_num)))\n",
    "    if a * a != d_num:\n",
    "        print('d_num should be a squared number.')\n",
    "\n",
    "total_step = 25000\n",
    "batch_size = 512\n",
    "\n",
    "num_mixtures = 8\n",
    "std = 0.02\n",
    "radius = 2.0\n",
    "\n",
    "# circular data:\n",
    "thetas = np.linspace(0, 2 * np.pi, num_mixtures + 1)[:num_mixtures]\n",
    "xs, ys = radius * np.sin(thetas), radius * np.cos(thetas)\n",
    "\n",
    "# # grid data:\n",
    "# thetas = np.linspace(0, math.sqrt(num_mixtures), int(math.sqrt(num_mixtures)) + 1)[:int(math.sqrt(num_mixtures))]\n",
    "# xs, ys = radius * np.repeat(thetas, int(math.sqrt(num_mixtures))), radius * np.tile(thetas, int(math.sqrt(num_mixtures)))\n",
    "\n",
    "# # spiral:\n",
    "# thetas = np.linspace(0, 3 * np.pi, num_mixtures + 1)[:num_mixtures]\n",
    "# xs, ys = (1 + 0.5 * thetas) * np.cos(thetas), (1 + 0.5 * thetas) * np.sin(thetas)\n",
    "\n",
    "cudnn.benchmark = True"
   ]
  },
  {
   "cell_type": "code",
   "execution_count": null,
   "metadata": {},
   "outputs": [],
   "source": [
    "version = 'SOMGAN_toy2D_' + str(d_num) + 'G_' + topo_style + '_' + str(total_step) + 'iters_' + str(time.strftime(\"%Y-%m-%d %H:%M:%S\", time.localtime()))\n",
    "model_save_path = './output/'+version+'/models'\n",
    "loss_save_path = './output/' + version + '/loss'\n",
    "sample_path = './output/'+version+'/samples'\n",
    "\n",
    "# Create directories if not exist\n",
    "make_folder(path = model_save_path)\n",
    "make_folder(path = loss_save_path)\n",
    "make_folder(path = sample_path)"
   ]
  },
  {
   "cell_type": "code",
   "execution_count": null,
   "metadata": {
    "scrolled": false
   },
   "outputs": [],
   "source": [
    "# Training configures\n",
    "configs = {    \n",
    "    'z_dim': 256,\n",
    "    'h_dim': 128, \n",
    "    'd_num': d_num,\n",
    "    'mix_coeffs': tuple([1 / num_mixtures] * num_mixtures),\n",
    "    'mean': tuple(zip(xs, ys)),\n",
    "    'cov': tuple([(std, std)] * num_mixtures),\n",
    "    'num_samples': 512,\n",
    "    'batch_size': batch_size,\n",
    "    'topo_style': topo_style,\n",
    "    'total_step': total_step,\n",
    "    'log_step': 1000,\n",
    "    'sample_step': 5000,\n",
    "    'model_save_step': 5000,\n",
    "    'g_lr': 0.001,\n",
    "    'd_lr': 0.001,\n",
    "    'lr_decay': 0.95,\n",
    "    'beta1': 0.9,\n",
    "    'beta2': 0.999,\n",
    "    'version': version,\n",
    "    'parallel': False,\n",
    "    'printnet': False,\n",
    "    'pretrained_model': None,\n",
    "    'model_save_path': model_save_path,\n",
    "    'sample_path': sample_path,\n",
    "    'loss_save_path': loss_save_path\n",
    "}\n",
    "\n",
    "trainer = SOMGAN_toy2D_model.Trainer(Configuration(configs))"
   ]
  },
  {
   "cell_type": "code",
   "execution_count": null,
   "metadata": {
    "scrolled": false
   },
   "outputs": [],
   "source": [
    "trainer.train()"
   ]
  }
 ],
 "metadata": {
  "kernelspec": {
   "display_name": "Python 3",
   "language": "python",
   "name": "python3"
  },
  "language_info": {
   "codemirror_mode": {
    "name": "ipython",
    "version": 3
   },
   "file_extension": ".py",
   "mimetype": "text/x-python",
   "name": "python",
   "nbconvert_exporter": "python",
   "pygments_lexer": "ipython3",
   "version": "3.8.5"
  }
 },
 "nbformat": 4,
 "nbformat_minor": 2
}
